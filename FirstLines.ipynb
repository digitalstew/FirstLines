{
 "cells": [
  {
   "cell_type": "markdown",
   "metadata": {},
   "source": [
    "<b>FirstLines : Word Frequency Analysis of Poetry First Lines</b>"
   ]
  },
  {
   "cell_type": "markdown",
   "metadata": {},
   "source": [
    "<b>FirstLines</b> is a Python 3.x project presented as a Jupyter Notebook.\n",
    "Links to the code and inputs files as well as a link to the live Jupyter Notebook can be found at the  bottom of the post.\n",
    "\n",
    "This project was inspired by the book \"Writing the Life Poetic\" by Sage Cohen. Her book is filled with interesting ideas used to see things differently which have inspired creativity in my writing both poetry and prose.  One of her suggestions is to use other person's poem titles as a jumping off points for your own ideas.  She also has many other suggestions for creativity and I recommend her book. <a href=\"https://sagecohen.com/books/writing-the-life-poetic/\">Writing the Life Poetic</a>\n",
    "\n",
    "This got me thinking about the process of writing. To me a poem or story title seems to be mostly an afterthought. What I was really interested in was the first line. The first line of a poem, the first line of a book. Anyone who has sat in front of a blank page, with an assignment due or project to be started understands that it is this beginning line that is often the hardest part. \n",
    "\n",
    "This led me to looking at first lines, first lines of novels or for this project, first lines of poems. I decided this would be a good project to create another Jupyter Notebook and continue to practice my Python coding."
   ]
  },
  {
   "cell_type": "markdown",
   "metadata": {},
   "source": [
    "<b>Program: FirstLines.py</b>   Python 3.6.2<br/>\n",
    "<b>Input:</b> 6 poets, 225 poems randomly selected from each. A total of 1350 first lines. <br/>\n",
    "<b>Program Operation:</b><br/> \n",
    "-- Read in 225 first lines from each poet.<br/>  \n",
    "-- Perform a word frequency analysis on the words used by each poet in their first lines.<br/>\n",
    "<b>Program Output:</b> A CSV file for each poet showing the frequency analysis of words used in the first lines.<br/>\n",
    "<b>Analysis:</b> The focus of this project was really the Python programming and the Jupyter but I also did some simple analysis."
   ]
  },
  {
   "cell_type": "markdown",
   "metadata": {},
   "source": [
    "Some options are available.\n",
    "Common English words can be removed by adding them to the list.\n",
    "Freq Limit; report or ignore words used infrequently. 0 = report all.\n",
    "Display the result output tot he screen or file (or both)"
   ]
  },
  {
   "cell_type": "code",
   "execution_count": null,
   "metadata": {
    "collapsed": true
   },
   "outputs": [],
   "source": [
    "################################################\n",
    "#   firstlines.py  Python 3.6.2                                                                        #\n",
    "#  1) read poetry first line files                                                                      #\n",
    "#  2) turn each first line input file into a sorted frequency dictionary     #\n",
    "#  >>>>  All code released as open source with no usage restrictions     #\n",
    "################################################\n",
    "\n",
    "# used to strip punctuation marks\n",
    "import string\n",
    "\n",
    "### ------ options ------ ###\n",
    "RemoveCommon = True\n",
    "# subset of most common words\n",
    "CommonWords = ['the', 'to', 'of', 'and', 'a']\n",
    "# optional freq limit, set to 0 to output all\n",
    "optionalQty = 0\n",
    "# optional output\n",
    "GenerateScreenOutput = False\n",
    "GenerateFileOutput = True"
   ]
  },
  {
   "cell_type": "markdown",
   "metadata": {},
   "source": [
    "For this exercise the input filename and poet names are hardcoded."
   ]
  },
  {
   "cell_type": "code",
   "execution_count": null,
   "metadata": {
    "collapsed": true
   },
   "outputs": [],
   "source": [
    "# input file names\n",
    "f_rossetti = \"225 First Lines from Christina Georgina Rossetti.txt\"\n",
    "f_dickinson = \"225 First Lines from Emily Dickinson.txt\"\n",
    "f_longfellow = \"225 First Lines from Henry Wadsworth Longfellow.txt\"\n",
    "f_emerson = \"225 First Lines from Ralph Waldo Emerson.txt\"\n",
    "f_teasdale = \"225 First Lines from Sara Teasdale.txt\"\n",
    "f_whitman = \"225 First Lines from Walt Whitman.txt\"\n",
    "\n",
    "\n",
    "# strings for output display\n",
    "rossetti = \"Christina George Rossetti\"\n",
    "dickinson = \"Emily Dickinson\"\n",
    "longfellow = \"Henry Wadsworth Longfellow\"\n",
    "emerson = \"Ralph Waldo Emerson\"\n",
    "teasdale = \"Sara Teasdale\"\n",
    "whitman = \"Walt Whitman\""
   ]
  },
  {
   "cell_type": "markdown",
   "metadata": {},
   "source": [
    "Funtions: the comments describes the actions"
   ]
  },
  {
   "cell_type": "code",
   "execution_count": null,
   "metadata": {
    "collapsed": true
   },
   "outputs": [],
   "source": [
    "# read a file, return the contents in a string    \n",
    "def readInputFile(fileName):\n",
    "    f = open(fileName , 'r')\n",
    "    textInputString = f.read()\n",
    "    f.close\n",
    "    return textInputString\n",
    "\n",
    "# takes a string, splits it and turns it into a list, returning the list\n",
    "def stringToList(inputString):\n",
    "    inList = inputString.split()\n",
    "    return inList\n",
    "\n",
    "#  takes a list of words and turns it into a frequency dictionary, returning the dictionary \n",
    "def listToFreqDict(inputList):\n",
    "    wordFreq = [inputList.count(p) for p in inputList]\n",
    "    return dict(zip(inputList,wordFreq))\n",
    "\n",
    "# sorts a frequency dictionary in descending order\n",
    "def sortFreqDict(inputFreqDict):\n",
    "    result = [(inputFreqDict[key], key) for key in inputFreqDict]\n",
    "    result.sort()\n",
    "    result.reverse()\n",
    "    return result\n",
    "\n",
    "# convert the input list into a sorted freq dictionary    \n",
    "def getSortedFreqDict(inLst):\n",
    "    tmpFreqDict = listToFreqDict(inLst)\n",
    "    tmpSortedFreqDict = sortFreqDict(tmpFreqDict)\n",
    "    return tmpSortedFreqDict"
   ]
  },
  {
   "cell_type": "markdown",
   "metadata": {},
   "source": [
    "Funtions: the comments describes the text clean up actions"
   ]
  },
  {
   "cell_type": "code",
   "execution_count": null,
   "metadata": {
    "collapsed": true
   },
   "outputs": [],
   "source": [
    "# text processing is messy business, many times custom cleanup is required \n",
    "# clean up the string and return a list\n",
    "def CleanupInput(inStr):\n",
    "    # change strings to lower case    \n",
    "    inStr = inStr.lower()\n",
    "    #clean up some dashes and apostrophes\n",
    "    inStr = inStr.replace(\"'\", \"\")\n",
    "    inStr = inStr.replace(\"-\", \"\")\n",
    "    # change string into a list\n",
    "    words = inStr.split()\n",
    "    #strip out punctuation    \n",
    "    tempList = [w.strip( string.punctuation) for w in words]\n",
    "    #remove all the common words \n",
    "    cleanList = []    \n",
    "    if RemoveCommon:\n",
    "        for item in tempList:\n",
    "            if not(item in CommonWords):\n",
    "                cleanList.append(item)       \n",
    "        return cleanList\n",
    "    else:\n",
    "        return tempList"
   ]
  },
  {
   "cell_type": "markdown",
   "metadata": {},
   "source": [
    "Funtions: the comments describes the screen and file out code"
   ]
  },
  {
   "cell_type": "code",
   "execution_count": null,
   "metadata": {
    "collapsed": true
   },
   "outputs": [],
   "source": [
    "def generateScreenOutput(poetName, poetSortedDict):\n",
    "    print(poetName)\n",
    "    for item in poetSortedDict: \n",
    "        tmpstr = str(item)\n",
    "        #remove all python dictionary characters\n",
    "        tmpstr = tmpstr.replace(\"(\", \"\")\n",
    "        tmpstr = tmpstr.replace(\")\", \"\")   \n",
    "        tmpstr = tmpstr.replace(\"'\", \"\")\n",
    "        tmpstr = tmpstr.replace('\"', \"\")\n",
    "        #optional freq output\n",
    "        tmplst = tmpstr.split(',')\n",
    "        if ( int(tmplst[0]) >= optionalQty):\n",
    "            print (tmpstr)\n",
    "    print()          \n",
    "   \n",
    "    \n",
    "def generateFileOutput(poetName, poetSortedDict):\n",
    "    filename = 'firstline_frequency_' + poetName + '.csv'\n",
    "    f = open(filename, \"w\")\n",
    "    f.write(poetName + '\\r\\n' )\n",
    "    f.write('useage count' + ' , ' + 'word used' + '\\r\\n')\n",
    "    for item in poetSortedDict: \n",
    "        tmpstr = str(item)\n",
    "        #remove all python dictionary characters\n",
    "        tmpstr = tmpstr.replace(\"(\", \"\")\n",
    "        tmpstr = tmpstr.replace(\")\", \"\")   \n",
    "        tmpstr = tmpstr.replace(\"'\", \"\")\n",
    "        tmpstr = tmpstr.replace('\"', \"\")\n",
    "        #optional freq output\n",
    "        tmplst = tmpstr.split(',')\n",
    "        if ( int(tmplst[0]) >= optionalQty):\n",
    "            f.write(tmpstr +'\\r\\n') \n",
    "    f.close()"
   ]
  },
  {
   "cell_type": "markdown",
   "metadata": {},
   "source": [
    "The main section of the code. Individual lists and dictionaries were hardcoded to make debugging easier. It would be easy to make all this code generic. THis exercide will be left to the reader."
   ]
  },
  {
   "cell_type": "code",
   "execution_count": null,
   "metadata": {
    "collapsed": true
   },
   "outputs": [],
   "source": [
    "## read the files\n",
    "s_rossetti = readInputFile(f_rossetti)\n",
    "s_dickinson = readInputFile(f_dickinson)\n",
    "s_longfellow = readInputFile(f_longfellow)\n",
    "s_emerson = readInputFile(f_emerson)\n",
    "s_teasdale = readInputFile(f_teasdale)\n",
    "s_whitman  = readInputFile(f_whitman )\n",
    "\n",
    "##  clean up the input and turn it into a list\n",
    "l_rossetti = CleanupInput(s_rossetti)\n",
    "l_dickinson = CleanupInput(s_dickinson)\n",
    "l_longfellow = CleanupInput(s_longfellow)\n",
    "l_emerson = CleanupInput(s_emerson)\n",
    "l_teasdale = CleanupInput(s_teasdale)\n",
    "l_whitman  = CleanupInput(s_whitman)\n",
    "\n",
    "## get the sorted freq dictionary for each poet\n",
    "sfd_rossetti = getSortedFreqDict(l_rossetti)\n",
    "sfd_dickinson = getSortedFreqDict(l_dickinson)\n",
    "sfd_longfellow = getSortedFreqDict(l_longfellow)\n",
    "sfd_emerson = getSortedFreqDict(l_emerson)\n",
    "sfd_teasdale = getSortedFreqDict(l_teasdale)\n",
    "sfd_whitman  = getSortedFreqDict(l_whitman )"
   ]
  },
  {
   "cell_type": "markdown",
   "metadata": {},
   "source": [
    "Output results code."
   ]
  },
  {
   "cell_type": "code",
   "execution_count": null,
   "metadata": {
    "collapsed": true
   },
   "outputs": [],
   "source": [
    "## print out to the console\n",
    "if (GenerateScreenOutput):\n",
    "    generateScreenOutput( rossetti, sfd_rossetti)\n",
    "    generateScreenOutput( dickinson, sfd_dickinson)\n",
    "    generateScreenOutput( longfellow, sfd_longfellow)\n",
    "    generateScreenOutput( emerson, sfd_emerson)\n",
    "    generateScreenOutput( teasdale, sfd_teasdale)\n",
    "    generateScreenOutput( whitman, sfd_whitman)\n",
    "\n",
    "#print out to a text file\n",
    "if (GenerateFileOutput):\n",
    "    generateFileOutput( rossetti, sfd_rossetti)\n",
    "    generateFileOutput( dickinson, sfd_dickinson)\n",
    "    generateFileOutput( longfellow, sfd_longfellow)\n",
    "    generateFileOutput( emerson, sfd_emerson)\n",
    "    generateFileOutput( teasdale, sfd_teasdale)\n",
    "    generateFileOutput( whitman, sfd_whitman)"
   ]
  },
  {
   "cell_type": "markdown",
   "metadata": {},
   "source": [
    "The output will scroll on the screen and be written as a CSV (comma seperated value) file that can be opened in a spreadsheet."
   ]
  }
 ],
 "metadata": {
  "kernelspec": {
   "display_name": "Python 3",
   "language": "python",
   "name": "python3"
  },
  "language_info": {
   "codemirror_mode": {
    "name": "ipython",
    "version": 3
   },
   "file_extension": ".py",
   "mimetype": "text/x-python",
   "name": "python",
   "nbconvert_exporter": "python",
   "pygments_lexer": "ipython3",
   "version": "3.6.2"
  }
 },
 "nbformat": 4,
 "nbformat_minor": 2
}
